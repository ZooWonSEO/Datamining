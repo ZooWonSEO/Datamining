{
 "cells": [
  {
   "cell_type": "code",
   "execution_count": 1,
   "metadata": {},
   "outputs": [
    {
     "name": "stderr",
     "output_type": "stream",
     "text": [
      "Using TensorFlow backend.\n"
     ]
    }
   ],
   "source": [
    "import numpy as np\n",
    "import pandas as pd\n",
    "import os\n",
    "\n",
    "import matplotlib.pyplot as plt \n",
    "\n",
    "import tensorflow as tf\n",
    "\n",
    "from keras import regularizers\n",
    "from keras.utils import to_categorical\n",
    "from keras.models import Sequential, Model\n",
    "from keras.layers import Input, Dense, Add, BatchNormalization, concatenate,Convolution2D, Conv2D\n",
    "from mlxtend.classifier import EnsembleVoteClassifier\n",
    "from keras.callbacks import EarlyStopping, LambdaCallback\n",
    "from keras.applications import ResNet50\n",
    "\n",
    "from sklearn.linear_model import LogisticRegression\n",
    "from sklearn.metrics import f1_score\n",
    "from sklearn import utils\n",
    "from sklearn import preprocessing\n",
    "from sklearn.model_selection import train_test_split \n",
    "from sklearn.ensemble import RandomForestClassifier, AdaBoostClassifier, GradientBoostingClassifier, ExtraTreesClassifier\n",
    "from sklearn.svm import SVC\n",
    "from sklearn.model_selection import KFold, StratifiedKFold"
   ]
  },
  {
   "cell_type": "code",
   "execution_count": 2,
   "metadata": {},
   "outputs": [
    {
     "name": "stdout",
     "output_type": "stream",
     "text": [
      "1 Physical GPUs, 1 Logical GPUs\n"
     ]
    }
   ],
   "source": [
    "gpus = tf.config.experimental.list_physical_devices('GPU')\n",
    "if gpus:\n",
    "  # Restrict TensorFlow to only allocate 1GB of memory on the first GPU\n",
    "  try:\n",
    "    tf.config.experimental.set_virtual_device_configuration(\n",
    "        gpus[0],\n",
    "        [tf.config.experimental.VirtualDeviceConfiguration(memory_limit=1024)])\n",
    "    logical_gpus = tf.config.experimental.list_logical_devices('GPU')\n",
    "    print(len(gpus), \"Physical GPUs,\", len(logical_gpus), \"Logical GPUs\")\n",
    "  except RuntimeError as e:\n",
    "    # Virtual devices must be set before GPUs have been initialized\n",
    "    print(e)"
   ]
  },
  {
   "cell_type": "code",
   "execution_count": 3,
   "metadata": {},
   "outputs": [],
   "source": [
    "submission = pd.read_csv('sample_submission.csv')\n",
    "train_files = os.listdir('C:/Users/seozo/OneDrive/바탕 화면/dacon/train')"
   ]
  },
  {
   "cell_type": "code",
   "execution_count": 4,
   "metadata": {},
   "outputs": [],
   "source": [
    "train = []\n",
    "for file in train_files:\n",
    "    try:\n",
    "        data = np.load('C:/Users/seozo/OneDrive/바탕 화면/dacon/train/'+file).astype('float32')\n",
    "        train.append(data)\n",
    "    except:\n",
    "        continue\n"
   ]
  },
  {
   "cell_type": "code",
   "execution_count": 5,
   "metadata": {},
   "outputs": [],
   "source": [
    "test = []\n",
    "for sub_id in submission['id']:\n",
    "    data = np.load('C:/Users/seozo/OneDrive/바탕 화면/dacon/test/'+'subset_'+sub_id+'.npy').astype('float32')\n",
    "    test.append(data)"
   ]
  },
  {
   "cell_type": "code",
   "execution_count": 6,
   "metadata": {},
   "outputs": [],
   "source": [
    "train = np.array(train)\n",
    "test = np.array(test)"
   ]
  },
  {
   "cell_type": "code",
   "execution_count": 7,
   "metadata": {},
   "outputs": [],
   "source": [
    "x_train = train[:,:,:,:14]\n",
    "y_train = train[:,:,:,14]\n",
    "test = test[:,:,:,:14]"
   ]
  },
  {
   "cell_type": "code",
   "execution_count": 8,
   "metadata": {},
   "outputs": [],
   "source": [
    "del train"
   ]
  },
  {
   "cell_type": "code",
   "execution_count": 9,
   "metadata": {},
   "outputs": [
    {
     "data": {
      "text/plain": [
       "((74436, 40, 40, 14), (74436, 40, 40), (1909, 40, 40, 14), (1909, 40, 40))"
      ]
     },
     "execution_count": 9,
     "metadata": {},
     "output_type": "execute_result"
    }
   ],
   "source": [
    "x_train, x_test, y_train, y_test = train_test_split(x_train, y_train, test_size=0.025, random_state=7777)\n",
    "x_train.shape, y_train.shape, x_test.shape, y_test.shape"
   ]
  },
  {
   "cell_type": "code",
   "execution_count": 10,
   "metadata": {},
   "outputs": [
    {
     "data": {
      "text/plain": [
       "((74061, 40, 40, 14), (74061, 40, 40, 1))"
      ]
     },
     "execution_count": 10,
     "metadata": {},
     "output_type": "execute_result"
    }
   ],
   "source": [
    "y_train_ = y_train.reshape(-1,y_train.shape[1]*y_train.shape[2])\n",
    "\n",
    "x_train = np.delete(x_train, np.where(y_train_<0)[0], axis=0)\n",
    "y_train = np.delete(y_train, np.where(y_train_<0)[0], axis=0)\n",
    "y_train = y_train.reshape(-1, x_train.shape[1], x_train.shape[2],1)\n",
    "y_test = y_test.reshape(-1, y_test.shape[1], y_test.shape[2],1)\n",
    "\n",
    "y_train_ = np.delete(y_train_, np.where(y_train_<0)[0], axis=0)\n",
    "\n",
    "x_train.shape, y_train.shape"
   ]
  },
  {
   "cell_type": "code",
   "execution_count": 11,
   "metadata": {},
   "outputs": [],
   "source": [
    "from sklearn.metrics import f1_score\n",
    "\n",
    "def mae(y_true, y_pred) :\n",
    "    \n",
    "    y_true, y_pred = np.array(y_true), np.array(y_pred)\n",
    "    \n",
    "    y_true = y_true.reshape(1, -1)[0]\n",
    "    \n",
    "    y_pred = y_pred.reshape(1, -1)[0]\n",
    "    \n",
    "    over_threshold = y_true >= 0.1\n",
    "    \n",
    "    return np.mean(np.abs(y_true[over_threshold] - y_pred[over_threshold]))\n",
    "\n",
    "def fscore(y_true, y_pred):\n",
    "    \n",
    "    y_true, y_pred = np.array(y_true), np.array(y_pred)\n",
    "    \n",
    "    y_true = y_true.reshape(1, -1)[0]\n",
    "    \n",
    "    y_pred = y_pred.reshape(1, -1)[0]\n",
    "    \n",
    "    remove_NAs = y_true >= 0\n",
    "    \n",
    "    y_true = np.where(y_true[remove_NAs] >= 0.1, 1, 0)\n",
    "    \n",
    "    y_pred = np.where(y_pred[remove_NAs] >= 0.1, 1, 0)\n",
    "    \n",
    "    return(f1_score(y_true, y_pred))\n",
    "\n",
    "def maeOverFscore(y_true, y_pred):\n",
    "    \n",
    "    return mae(y_true, y_pred) / (fscore(y_true, y_pred) + 1e-07)\n",
    "\n",
    "def fscore_keras(y_true, y_pred):\n",
    "    score = tf.py_function(func=fscore, inp=[y_true, y_pred], Tout=tf.float32, name='fscore_keras')\n",
    "    return score\n",
    "\n",
    "def maeOverFscore_keras(y_true, y_pred):\n",
    "    score = tf.py_function(func=maeOverFscore, inp=[y_true, y_pred], Tout=tf.float32,  name='custom_mse') \n",
    "    return score"
   ]
  },
  {
   "cell_type": "code",
   "execution_count": 12,
   "metadata": {},
   "outputs": [
    {
     "name": "stdout",
     "output_type": "stream",
     "text": [
      "Epoch 1/10\n",
      "74061/74061 [==============================] - 134s 2ms/step - loss: 0.1245 - maeOverFscore_keras: 2.9218 - fscore_keras: 0.6158\n",
      "Epoch 2/10\n",
      "74061/74061 [==============================] - 128s 2ms/step - loss: 0.1083 - maeOverFscore_keras: 2.2846 - fscore_keras: 0.6684\n",
      "Epoch 3/10\n",
      "74061/74061 [==============================] - 128s 2ms/step - loss: 0.1034 - maeOverFscore_keras: 2.1441 - fscore_keras: 0.6865\n",
      "Epoch 4/10\n",
      "74061/74061 [==============================] - 127s 2ms/step - loss: 0.0990 - maeOverFscore_keras: 1.9478 - fscore_keras: 0.7170\n",
      "Epoch 5/10\n",
      "74061/74061 [==============================] - 129s 2ms/step - loss: 0.0972 - maeOverFscore_keras: 1.9085 - fscore_keras: 0.7230\n",
      "Epoch 6/10\n",
      "74061/74061 [==============================] - 128s 2ms/step - loss: 0.0962 - maeOverFscore_keras: 1.8656 - fscore_keras: 0.7286\n",
      "Epoch 7/10\n",
      "74061/74061 [==============================] - 128s 2ms/step - loss: 0.0950 - maeOverFscore_keras: 1.8281 - fscore_keras: 0.7368\n",
      "Epoch 8/10\n",
      "74061/74061 [==============================] - 134s 2ms/step - loss: 0.0953 - maeOverFscore_keras: 1.8384 - fscore_keras: 0.7314\n",
      "Epoch 9/10\n",
      "74061/74061 [==============================] - 132s 2ms/step - loss: 0.0940 - maeOverFscore_keras: 1.7980 - fscore_keras: 0.7389\n",
      "Epoch 10/10\n",
      "74061/74061 [==============================] - 129s 2ms/step - loss: 0.0932 - maeOverFscore_keras: 1.7658 - fscore_keras: 0.7456\n"
     ]
    }
   ],
   "source": [
    "#with tf.device('/gpu:0'):\n",
    "#내가 만든 것\n",
    "\n",
    "def create_model1():\n",
    "    model = Sequential()\n",
    "    model.add(Convolution2D(32,kernel_size=(3,3),padding='same', activation='relu',input_shape=(40,40,14)))\n",
    "    model.add(BatchNormalization())\n",
    "    model.add(Convolution2D(32,kernel_size=(3,3),padding='same', activation='relu'))\n",
    "    model.add(BatchNormalization())\n",
    "    model.add(Convolution2D(64,kernel_size=(3,3),padding='same', activation='relu'))\n",
    "    model.add(BatchNormalization())\n",
    "    model.add(Convolution2D(16,kernel_size=(3,3),padding='same', activation='relu'))\n",
    "    model.add(BatchNormalization())\n",
    "    model.add(Convolution2D(8,kernel_size=(3,3),padding='same', activation='relu'))\n",
    "    model.add(BatchNormalization())\n",
    "    model.add(Convolution2D(2,kernel_size=(3,3),padding='same', activation='relu'))\n",
    "    model.add(BatchNormalization())\n",
    "    model.add(Convolution2D(1,kernel_size=(3,3),padding='same', activation='relu'))\n",
    "\n",
    "    model.compile(loss=\"mae\", optimizer=\"adam\", metrics=[maeOverFscore_keras, fscore_keras])\n",
    "\n",
    "    return model\n",
    "\n",
    "early_stopping = EarlyStopping(patience=5, min_delta=0, monitor='val_loss') \n",
    "model1 = create_model1()\n",
    "model1.compile(loss=\"mae\", optimizer=\"adam\", metrics=[maeOverFscore_keras, fscore_keras])\n",
    "model1_history = model1.fit(x_train, y_train, batch_size=50,epochs = 10, verbose=1)\n",
    "    "
   ]
  },
  {
   "cell_type": "code",
   "execution_count": 13,
   "metadata": {},
   "outputs": [
    {
     "name": "stdout",
     "output_type": "stream",
     "text": [
      "tf.Tensor(2.161281, shape=(), dtype=float32)\n"
     ]
    }
   ],
   "source": [
    "pred = []\n",
    "pred = model1.predict(x_test)\n",
    "print(maeOverFscore_keras(y_test, pred))\n",
    "\n",
    "pred = model1.predict(test)\n",
    "submission.iloc[:,1:] = pred.reshape(-1, 1600)\n",
    "submission.to_csv('f14_test1.csv', index = False)"
   ]
  },
  {
   "cell_type": "code",
   "execution_count": 14,
   "metadata": {},
   "outputs": [
    {
     "data": {
      "image/png": "[encoded data removed]",
      "text/plain": [
       "<Figure size 432x288 with 1 Axes>"
      ]
     },
     "metadata": {
      "needs_background": "light"
     },
     "output_type": "display_data"
    }
   ],
   "source": [
    "# 트레이닝 Epoch에 따라 Loss의 변화를 그래프로 시각화하는 코드입니다.\n",
    "plt.plot(model1_history.history['loss']) \n",
    "plt.title('model1 loss')\n",
    "plt.ylabel('model1_Loss')\n",
    "plt.xlabel('model1_Epoch')\n",
    "plt.legend(['Train'],loc='upper right')\n",
    "plt.show()"
   ]
  },
  {
   "cell_type": "code",
   "execution_count": 15,
   "metadata": {},
   "outputs": [
    {
     "name": "stdout",
     "output_type": "stream",
     "text": [
      "Epoch 1/3\n",
      "74061/74061 [==============================] - 710s 10ms/step - loss: 0.1222 - maeOverFscore_keras: 152992.0781 - fscore_keras: 0.3623\n",
      "Epoch 2/3\n",
      "74061/74061 [==============================] - 709s 10ms/step - loss: 0.1151 - maeOverFscore_keras: 221053.6250 - fscore_keras: 0.3925\n",
      "Epoch 3/3\n",
      "74061/74061 [==============================] - 712s 10ms/step - loss: 0.1077 - maeOverFscore_keras: 25927.5137 - fscore_keras: 0.4947\n"
     ]
    }
   ],
   "source": [
    "#with tf.device('/gpu:0'):   \n",
    "\n",
    "#Resnet\n",
    "    def create_model3():\n",
    "        inputs=Input(x_train.shape[1:])\n",
    "    \n",
    "        bn=BatchNormalization()(inputs)\n",
    "        x=Conv2D(256, kernel_size=3, strides=1, padding='same', activation='relu')(bn)\n",
    "    \n",
    "        bn=BatchNormalization()(x)\n",
    "        x2=Conv2D(128, kernel_size=3, strides=1, padding='same', activation='relu')(bn)\n",
    "        concat=concatenate([x, x2], axis=3)\n",
    "        \n",
    "        bn=BatchNormalization()(concat)\n",
    "        x2=Conv2D(64, kernel_size=3, strides=1, padding='same', activation='relu')(bn)\n",
    "        concat=concatenate([concat, x2], axis=3)\n",
    "        \n",
    "        bn=BatchNormalization()(concat)\n",
    "        x2=Conv2D(32, kernel_size=3, strides=1, padding='same', activation='relu')(bn)\n",
    "        concat=concatenate([concat, x2], axis=3)\n",
    "        bn=BatchNormalization()(concat)\n",
    "        x2=Conv2D(32, kernel_size=3, strides=1, padding='same', activation='relu')(bn)\n",
    "        concat=concatenate([concat, x2], axis=3)\n",
    "        bn=BatchNormalization()(concat)\n",
    "        x2=Conv2D(32, kernel_size=3, strides=1, padding='same', activation='relu')(bn)\n",
    "        concat=concatenate([concat, x2], axis=3)\n",
    "        \n",
    "        bn=BatchNormalization()(concat)\n",
    "        x=Conv2D(32, kernel_size=3, strides=1, padding='same', activation='relu')(bn)\n",
    "        concat=concatenate([concat, x], axis=3)\n",
    "        bn=BatchNormalization()(concat)\n",
    "        x=Conv2D(32, kernel_size=3, strides=1, padding='same', activation='relu')(bn)\n",
    "        concat=concatenate([concat, x], axis=3)\n",
    "    \n",
    "        bn=BatchNormalization()(concat)\n",
    "        outputs=Conv2D(1, kernel_size=3, strides=1, padding='same', activation='relu')(bn)\n",
    "    \n",
    "        model=Model(inputs=inputs, outputs=outputs)\n",
    "    \n",
    "        return model\n",
    "\n",
    "    early_stopping = EarlyStopping(patience=5, min_delta=0, monitor='val_loss') \n",
    "    model3 = create_model3()\n",
    "    model3.compile(loss=\"mae\", optimizer=\"adam\", metrics=[maeOverFscore_keras, fscore_keras])\n",
    "    model3_history = model3.fit(x_train, y_train, batch_size=10, epochs = 3, verbose=1)"
   ]
  },
  {
   "cell_type": "code",
   "execution_count": 16,
   "metadata": {},
   "outputs": [
    {
     "name": "stdout",
     "output_type": "stream",
     "text": [
      "tf.Tensor(2.3090997, shape=(), dtype=float32)\n"
     ]
    }
   ],
   "source": [
    "pred = []\n",
    "pred = model3.predict(x_test)\n",
    "print(maeOverFscore_keras(y_test, pred))\n",
    "\n",
    "pred = model3.predict(test)\n",
    "submission.iloc[:,1:] = pred.reshape(-1, 1600)\n",
    "submission.to_csv('f14_test2.csv', index = False)"
   ]
  },
  {
   "cell_type": "code",
   "execution_count": 17,
   "metadata": {},
   "outputs": [
    {
     "data": {
      "image/png": "[encoded data removed]",
      "text/plain": [
       "<Figure size 432x288 with 1 Axes>"
      ]
     },
     "metadata": {
      "needs_background": "light"
     },
     "output_type": "display_data"
    }
   ],
   "source": [
    "# 트레이닝 Epoch에 따라 Loss의 변화를 그래프로 시각화하는 코드입니다.\n",
    "plt.plot(model3_history.history['loss']) \n",
    "plt.title('model13loss')\n",
    "plt.ylabel('model3Loss')\n",
    "plt.xlabel('model3Epoch')\n",
    "plt.legend(['Train'],loc='upper right')\n",
    "plt.show()"
   ]
  },
  {
   "cell_type": "code",
   "execution_count": 12,
   "metadata": {},
   "outputs": [
    {
     "name": "stdout",
     "output_type": "stream",
     "text": [
      "Epoch 1/1\n",
      "74060/74061 [============================>.] - ETA: 0s - loss: 0.5122 - maeOverFscore_keras: 19717916.0000 - fscore_keras: 1.7326e-04"
     ]
    },
    {
     "name": "stderr",
     "output_type": "stream",
     "text": [
      "C:\\Users\\seozo\\.conda\\envs\\abc\\lib\\site-packages\\sklearn\\metrics\\_classification.py:1465: UndefinedMetricWarning: F-score is ill-defined and being set to 0.0 due to no true nor predicted samples. Use `zero_division` parameter to control this behavior.\n",
      "  average, \"true nor predicted\", 'F-score is', len(true_sum)\n",
      "C:\\Users\\seozo\\.conda\\envs\\abc\\lib\\site-packages\\numpy\\core\\fromnumeric.py:3335: RuntimeWarning: Mean of empty slice.\n",
      "  out=out, **kwargs)\n",
      "C:\\Users\\seozo\\.conda\\envs\\abc\\lib\\site-packages\\numpy\\core\\_methods.py:161: RuntimeWarning: invalid value encountered in true_divide\n",
      "  ret = ret.dtype.type(ret / rcount)\n"
     ]
    },
    {
     "name": "stdout",
     "output_type": "stream",
     "text": [
      "74061/74061 [==============================] - 1554s 21ms/step - loss: 0.5122 - maeOverFscore_keras: nan - fscore_keras: 1.7324e-04  \n"
     ]
    }
   ],
   "source": [
    "#with tf.device('/gpu:0'):   \n",
    "\n",
    "#vgg16 변형 \n",
    "def create_model4():\n",
    "    inputs=Input(x_train.shape[1:])\n",
    "    bn=BatchNormalization()(inputs)\n",
    "        \n",
    "    x = Conv2D(64, (3, 3), activation='relu', strides=1, padding='same', kernel_initializer='he_normal', kernel_regularizer=regularizers.l2(0.01))(bn)\n",
    "    x = Conv2D(64, (3, 3), activation='relu', strides=1, padding='same', kernel_initializer='he_normal', kernel_regularizer=regularizers.l2(0.01))(x)\n",
    "\n",
    "    x = Conv2D(128, (3, 3), activation='relu', strides=1, padding='same', kernel_initializer='he_normal', kernel_regularizer=regularizers.l2(0.01))(x)\n",
    "    x = Conv2D(128, (3, 3), activation='relu', strides=1, padding='same', kernel_initializer='he_normal', kernel_regularizer=regularizers.l2(0.01))(x)\n",
    "\n",
    "    x = Conv2D(256, (3, 3), activation='relu', strides=1, padding='same', kernel_initializer='he_normal', kernel_regularizer=regularizers.l2(0.01))(x)\n",
    "    x = Conv2D(256, (3, 3), activation='relu', strides=1, padding='same', kernel_initializer='he_normal', kernel_regularizer=regularizers.l2(0.01))(x)\n",
    "    x = Conv2D(256, (3, 3), activation='relu', strides=1, padding='same', kernel_initializer='he_normal', kernel_regularizer=regularizers.l2(0.01))(x)\n",
    "\n",
    "    x = Conv2D(512, (3, 3), activation='relu', strides=1, padding='same', kernel_initializer='he_normal', kernel_regularizer=regularizers.l2(0.01))(x)\n",
    "    x = Conv2D(512, (3, 3), activation='relu', strides=1, padding='same', kernel_initializer='he_normal', kernel_regularizer=regularizers.l2(0.01))(x)\n",
    "    x = Conv2D(512, (3, 3), activation='relu', strides=1, padding='same', kernel_initializer='he_normal', kernel_regularizer=regularizers.l2(0.01))(x)\n",
    " \n",
    "    x = Conv2D(512, (3, 3), activation='relu', strides=1, padding='same', kernel_initializer='he_normal', kernel_regularizer=regularizers.l2(0.01))(x)\n",
    "    x = Conv2D(512, (3, 3), activation='relu', strides=1, padding='same', kernel_initializer='he_normal', kernel_regularizer=regularizers.l2(0.01))(x)\n",
    "    x = Conv2D(512, (3, 3), activation='relu', strides=1, padding='same', kernel_initializer='he_normal', kernel_regularizer=regularizers.l2(0.01))(x)\n",
    "\n",
    "    bn=BatchNormalization()(x)\n",
    "    \n",
    "    outputs=Conv2D(1, (1,1), strides=1, padding='same', activation='relu')(bn)\n",
    "    \n",
    "    model=Model(inputs=inputs, outputs=outputs)\n",
    "    \n",
    "    return model\n",
    "\n",
    "early_stopping = EarlyStopping(patience=5, min_delta=0, monitor='val_loss') \n",
    "model4 = create_model4()\n",
    "model4.compile(loss=\"mae\", optimizer=\"adam\", metrics=[maeOverFscore_keras, fscore_keras])\n",
    "model4_history = model4.fit(x_train, y_train, batch_size=10, epochs = 1, verbose=1)"
   ]
  },
  {
   "cell_type": "code",
   "execution_count": 16,
   "metadata": {},
   "outputs": [
    {
     "name": "stdout",
     "output_type": "stream",
     "text": [
      "tf.Tensor(20960372.0, shape=(), dtype=float32)\n"
     ]
    }
   ],
   "source": [
    "pred = []\n",
    "pred = model4.predict(x_test)\n",
    "print(maeOverFscore_keras(y_test, pred))\n",
    "\n",
    "pred = model4.predict(test)\n",
    "submission.iloc[:,1:] = pred.reshape(-1, 1600)\n",
    "submission.to_csv('f14_test3.csv', index = False)"
   ]
  },
  {
   "cell_type": "code",
   "execution_count": 14,
   "metadata": {},
   "outputs": [
    {
     "data": {
      "image/png": "[encoded data removed]",
      "text/plain": [
       "<Figure size 432x288 with 1 Axes>"
      ]
     },
     "metadata": {
      "needs_background": "light"
     },
     "output_type": "display_data"
    }
   ],
   "source": [
    "# 트레이닝 Epoch에 따라 Loss의 변화를 그래프로 시각화하는 코드입니다.\n",
    "plt.plot(model4_history.history['loss']) \n",
    "plt.title('model4 loss')\n",
    "plt.ylabel('model4_Loss')\n",
    "plt.xlabel('model4_Epoch')\n",
    "plt.legend(['Train'],loc='upper right')\n",
    "plt.show()"
   ]
  },
  {
   "cell_type": "code",
   "execution_count": 21,
   "metadata": {},
   "outputs": [
    {
     "name": "stdout",
     "output_type": "stream",
     "text": [
      "Epoch 1/3\n",
      "74061/74061 [==============================] - 491s 7ms/step - loss: 0.1462 - maeOverFscore_keras: 19843302.0000 - fscore_keras: 1.0449e-05\n",
      "Epoch 2/3\n",
      "74061/74061 [==============================] - 491s 7ms/step - loss: 0.1462 - maeOverFscore_keras: 19888724.0000 - fscore_keras: 0.0000e+00\n",
      "Epoch 3/3\n",
      "74061/74061 [==============================] - 483s 7ms/step - loss: 0.1462 - maeOverFscore_keras: 19981670.0000 - fscore_keras: 0.0000e+00\n"
     ]
    }
   ],
   "source": [
    "#with tf.device('/gpu:0'):   \n",
    "\n",
    "#alexnet 변형 \n",
    "def create_model5():\n",
    "    \n",
    "    inputs=Input(x_train.shape[1:])\n",
    "    bn=BatchNormalization()(inputs)\n",
    "        \n",
    "    x=Conv2D(96, (11,11), strides=1, padding='same', activation='relu')(bn)\n",
    "    x=Conv2D(256, (5,5), strides=1,padding='same', activation='relu')(x)\n",
    "    bn=BatchNormalization()(x) \n",
    "      \n",
    "    x=Conv2D(384, (3,3), strides=1, padding='same', activation='relu')(bn)\n",
    "    bn=BatchNormalization()(x)    \n",
    "    \n",
    "\n",
    "    x=Conv2D(384, (3,3), strides=1, padding='same', activation='relu')(bn)\n",
    "    x=Conv2D(384, (3,3), strides=1, padding='same', activation='relu')(x)\n",
    "    \n",
    "    outputs=Conv2D(1, (1,1), strides=1, padding='same', activation='relu')(x)\n",
    "    \n",
    "    model=Model(inputs=inputs, outputs=outputs)\n",
    "    \n",
    "    return model\n",
    "\n",
    "early_stopping = EarlyStopping(patience=5, min_delta=0, monitor='val_loss') \n",
    "model5 = create_model5()\n",
    "model5.compile(loss=\"mae\", optimizer=\"adam\", metrics=[maeOverFscore_keras, fscore_keras])\n",
    "model5_history = model5.fit(x_train, y_train, batch_size=10, epochs = 3, verbose=1)"
   ]
  },
  {
   "cell_type": "code",
   "execution_count": 22,
   "metadata": {},
   "outputs": [
    {
     "name": "stdout",
     "output_type": "stream",
     "text": [
      "tf.Tensor(20960372.0, shape=(), dtype=float32)\n"
     ]
    }
   ],
   "source": [
    "pred = []\n",
    "pred = model5.predict(x_test)\n",
    "print(maeOverFscore_keras(y_test, pred))\n",
    "\n",
    "pred = model5.predict(test)\n",
    "submission.iloc[:,1:] = pred.reshape(-1, 1600)\n",
    "submission.to_csv('f14_test4.csv', index = False)"
   ]
  },
  {
   "cell_type": "code",
   "execution_count": null,
   "metadata": {},
   "outputs": [],
   "source": [
    "# 트레이닝 Epoch에 따라 Loss의 변화를 그래프로 시각화하는 코드입니다.\n",
    "plt.plot(model5_history.history['loss']) \n",
    "plt.title('model5 loss')\n",
    "plt.ylabel('model5_Loss')\n",
    "plt.xlabel('model5_Epoch')\n",
    "plt.legend(['Train'],loc='upper right')\n",
    "plt.show()"
   ]
  },
  {
   "cell_type": "code",
   "execution_count": null,
   "metadata": {},
   "outputs": [],
   "source": []
  }
 ],
 "metadata": {
  "kernelspec": {
   "display_name": "Python 3",
   "language": "python",
   "name": "python3"
  },
  "language_info": {
   "codemirror_mode": {
    "name": "ipython",
    "version": 3
   },
   "file_extension": ".py",
   "mimetype": "text/x-python",
   "name": "python",
   "nbconvert_exporter": "python",
   "pygments_lexer": "ipython3",
   "version": "3.6.7"
  }
 },
 "nbformat": 4,
 "nbformat_minor": 4
}
